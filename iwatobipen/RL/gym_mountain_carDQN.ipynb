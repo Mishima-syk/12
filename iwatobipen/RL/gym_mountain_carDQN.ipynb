{
 "cells": [
  {
   "cell_type": "markdown",
   "metadata": {
    "collapsed": true
   },
   "source": [
    "### Mountain car problem"
   ]
  },
  {
   "cell_type": "code",
   "execution_count": 1,
   "metadata": {
    "collapsed": false
   },
   "outputs": [
    {
     "name": "stderr",
     "output_type": "stream",
     "text": [
      "Using TensorFlow backend.\n"
     ]
    }
   ],
   "source": [
    "import numpy as np\n",
    "import gym\n",
    "from keras.models import Model\n",
    "from keras.layers import Input, Dense, Activation, Flatten\n",
    "from keras.optimizers import Adam"
   ]
  },
  {
   "cell_type": "code",
   "execution_count": 2,
   "metadata": {
    "collapsed": true
   },
   "outputs": [],
   "source": [
    "from rl.agents.dqn import DQNAgent\n",
    "from rl.policy import EpsGreedyQPolicy\n",
    "from rl.memory import SequentialMemory"
   ]
  },
  {
   "cell_type": "code",
   "execution_count": 3,
   "metadata": {
    "collapsed": false
   },
   "outputs": [
    {
     "name": "stdout",
     "output_type": "stream",
     "text": [
      "\u001b[33mWARN: gym.spaces.Box autodetected dtype as <class 'numpy.float32'>. Please provide explicit dtype.\u001b[0m\n"
     ]
    }
   ],
   "source": [
    "env = gym.make('MountainCar-v0')"
   ]
  },
  {
   "cell_type": "code",
   "execution_count": 4,
   "metadata": {
    "collapsed": false
   },
   "outputs": [
    {
     "data": {
      "text/plain": [
       "[794]"
      ]
     },
     "execution_count": 4,
     "metadata": {},
     "output_type": "execute_result"
    }
   ],
   "source": [
    "np.random.seed(794)\n",
    "env.seed(794)"
   ]
  },
  {
   "cell_type": "code",
   "execution_count": 5,
   "metadata": {
    "collapsed": true
   },
   "outputs": [],
   "source": [
    "# observation is position, and speed\n",
    "# action, push left, no push, push right 3 actions!\n",
    "ob_stapce = env.observation_space.shape\n",
    "nb_actions = env.action_space.n"
   ]
  },
  {
   "cell_type": "code",
   "execution_count": 6,
   "metadata": {
    "collapsed": false
   },
   "outputs": [
    {
     "name": "stdout",
     "output_type": "stream",
     "text": [
      "_________________________________________________________________\n",
      "Layer (type)                 Output Shape              Param #   \n",
      "=================================================================\n",
      "input_1 (InputLayer)         (None, 1, 2)              0         \n",
      "_________________________________________________________________\n",
      "flatten_1 (Flatten)          (None, 2)                 0         \n",
      "_________________________________________________________________\n",
      "dense_1 (Dense)              (None, 16)                48        \n",
      "_________________________________________________________________\n",
      "dense_2 (Dense)              (None, 3)                 51        \n",
      "=================================================================\n",
      "Total params: 99\n",
      "Trainable params: 99\n",
      "Non-trainable params: 0\n",
      "_________________________________________________________________\n",
      "None\n"
     ]
    }
   ],
   "source": [
    "inputs = Input(shape=(1,2,))\n",
    "x = Flatten()(inputs)\n",
    "x = Dense(16, activation='relu')(x)\n",
    "pred = Dense(3, activation='linear')(x)\n",
    "model1 = Model(inputs=inputs, outputs = pred )\n",
    "print(model1.summary())"
   ]
  },
  {
   "cell_type": "code",
   "execution_count": 7,
   "metadata": {
    "collapsed": false
   },
   "outputs": [],
   "source": [
    "\n",
    "policy = EpsGreedyQPolicy(0.2)\n",
    "memory = SequentialMemory(limit=1000, window_length=1)\n",
    "dqn = DQNAgent(model=model1,\n",
    "                               nb_actions=nb_actions,\n",
    "                               memory=memory,\n",
    "                               target_model_update=1e-3,\n",
    "                                policy=policy)"
   ]
  },
  {
   "cell_type": "code",
   "execution_count": 8,
   "metadata": {
    "collapsed": true
   },
   "outputs": [],
   "source": [
    "dqn.compile(Adam(lr=1e-3), metrics=['mse'])"
   ]
  },
  {
   "cell_type": "code",
   "execution_count": 12,
   "metadata": {
    "collapsed": false
   },
   "outputs": [
    {
     "name": "stdout",
     "output_type": "stream",
     "text": [
      "Training for 1000 steps ...\n",
      " 100/1000: episode: 1, duration: 1.649s, episode steps: 100, steps per second: 61, episode reward: -100.000, mean reward: -1.000 [-1.000, -1.000], mean action: 0.220 [0.000, 2.000], mean observation: -0.311 [-0.686, 0.005], loss: --, mean_squared_error: --, mean_q: --\n",
      " 200/1000: episode: 2, duration: 1.665s, episode steps: 100, steps per second: 60, episode reward: -100.000, mean reward: -1.000 [-1.000, -1.000], mean action: 0.200 [0.000, 2.000], mean observation: -0.312 [-0.844, 0.017], loss: --, mean_squared_error: --, mean_q: --\n",
      " 300/1000: episode: 3, duration: 1.666s, episode steps: 100, steps per second: 60, episode reward: -100.000, mean reward: -1.000 [-1.000, -1.000], mean action: 0.140 [0.000, 2.000], mean observation: -0.319 [-0.901, 0.021], loss: --, mean_squared_error: --, mean_q: --\n",
      " 400/1000: episode: 4, duration: 1.667s, episode steps: 100, steps per second: 60, episode reward: -100.000, mean reward: -1.000 [-1.000, -1.000], mean action: 0.230 [0.000, 2.000], mean observation: -0.312 [-0.681, 0.005], loss: --, mean_squared_error: --, mean_q: --\n",
      " 500/1000: episode: 5, duration: 1.666s, episode steps: 100, steps per second: 60, episode reward: -100.000, mean reward: -1.000 [-1.000, -1.000], mean action: 0.290 [0.000, 2.000], mean observation: -0.306 [-0.751, 0.011], loss: --, mean_squared_error: --, mean_q: --\n",
      " 600/1000: episode: 6, duration: 1.667s, episode steps: 100, steps per second: 60, episode reward: -100.000, mean reward: -1.000 [-1.000, -1.000], mean action: 0.180 [0.000, 2.000], mean observation: -0.317 [-0.695, 0.005], loss: --, mean_squared_error: --, mean_q: --\n",
      " 700/1000: episode: 7, duration: 1.665s, episode steps: 100, steps per second: 60, episode reward: -100.000, mean reward: -1.000 [-1.000, -1.000], mean action: 0.110 [0.000, 2.000], mean observation: -0.320 [-0.773, 0.009], loss: --, mean_squared_error: --, mean_q: --\n",
      " 800/1000: episode: 8, duration: 1.666s, episode steps: 100, steps per second: 60, episode reward: -100.000, mean reward: -1.000 [-1.000, -1.000], mean action: 0.070 [0.000, 2.000], mean observation: -0.322 [-0.891, 0.020], loss: --, mean_squared_error: --, mean_q: --\n",
      " 900/1000: episode: 9, duration: 1.700s, episode steps: 100, steps per second: 59, episode reward: -100.000, mean reward: -1.000 [-1.000, -1.000], mean action: 0.140 [0.000, 2.000], mean observation: -0.313 [-0.890, 0.019], loss: --, mean_squared_error: --, mean_q: --\n",
      " 1000/1000: episode: 10, duration: 1.665s, episode steps: 100, steps per second: 60, episode reward: -100.000, mean reward: -1.000 [-1.000, -1.000], mean action: 0.180 [0.000, 2.000], mean observation: -0.316 [-0.830, 0.016], loss: --, mean_squared_error: --, mean_q: --\n",
      "done, took 16.685 seconds\n"
     ]
    },
    {
     "data": {
      "text/plain": [
       "<keras.callbacks.History at 0x115233908>"
      ]
     },
     "execution_count": 12,
     "metadata": {},
     "output_type": "execute_result"
    }
   ],
   "source": [
    "dqn.fit(env, nb_steps=1000, visualize=True, verbose=2, nb_max_episode_steps=100)"
   ]
  },
  {
   "cell_type": "code",
   "execution_count": 10,
   "metadata": {
    "collapsed": false
   },
   "outputs": [
    {
     "name": "stdout",
     "output_type": "stream",
     "text": [
      "_________________________________________________________________\n",
      "Layer (type)                 Output Shape              Param #   \n",
      "=================================================================\n",
      "input_1 (InputLayer)         (None, 1, 2)              0         \n",
      "_________________________________________________________________\n",
      "flatten_1 (Flatten)          (None, 2)                 0         \n",
      "_________________________________________________________________\n",
      "dense_1 (Dense)              (None, 16)                48        \n",
      "_________________________________________________________________\n",
      "dense_2 (Dense)              (None, 3)                 51        \n",
      "=================================================================\n",
      "Total params: 99\n",
      "Trainable params: 99\n",
      "Non-trainable params: 0\n",
      "_________________________________________________________________\n"
     ]
    }
   ],
   "source": [
    "model1.summary()"
   ]
  },
  {
   "cell_type": "code",
   "execution_count": null,
   "metadata": {
    "collapsed": true
   },
   "outputs": [],
   "source": []
  },
  {
   "cell_type": "code",
   "execution_count": null,
   "metadata": {
    "collapsed": true
   },
   "outputs": [],
   "source": []
  }
 ],
 "metadata": {
  "anaconda-cloud": {},
  "kernelspec": {
   "display_name": "Python [default]",
   "language": "python",
   "name": "python3"
  },
  "language_info": {
   "codemirror_mode": {
    "name": "ipython",
    "version": 3
   },
   "file_extension": ".py",
   "mimetype": "text/x-python",
   "name": "python",
   "nbconvert_exporter": "python",
   "pygments_lexer": "ipython3",
   "version": "3.5.4"
  }
 },
 "nbformat": 4,
 "nbformat_minor": 1
}
