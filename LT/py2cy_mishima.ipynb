{
 "cells": [
  {
   "cell_type": "code",
   "execution_count": 1,
   "metadata": {
    "collapsed": false
   },
   "outputs": [
    {
     "data": {
      "application/javascript": [
       "if (window['cytoscape'] === undefined) {\n",
       "    var paths = {\n",
       "        cytoscape: 'http://cytoscape.github.io/cytoscape.js/api/cytoscape.js-latest/cytoscape.min'\n",
       "    };\n",
       "\n",
       "    require.config({\n",
       "        paths: paths\n",
       "    });\n",
       "\n",
       "    require(['cytoscape'], function (cytoscape) {\n",
       "        console.log('Loading Cytoscape.js Module...');\n",
       "        window['cytoscape'] = cytoscape;\n",
       "\n",
       "        var event = document.createEvent(\"HTMLEvents\");\n",
       "        event.initEvent(\"load_cytoscape\", true, false);\n",
       "        window.dispatchEvent(event);\n",
       "    });\n",
       "}"
      ],
      "text/plain": [
       "<IPython.core.display.Javascript object>"
      ]
     },
     "metadata": {},
     "output_type": "display_data"
    }
   ],
   "source": [
    "from py2cytoscape.data.cyrest_client import CyRestClient\n",
    "from py2cytoscape.data.util_network import NetworkUtil as util\n",
    "from py2cytoscape.data.style import StyleUtil as s_util\n",
    "import py2cytoscape.cytoscapejs as renderer\n",
    "\n",
    "cy = CyRestClient()\n",
    "cy.session.delete()\n",
    "test = cy.network.create_from('test.gml')"
   ]
  },
  {
   "cell_type": "code",
   "execution_count": 2,
   "metadata": {
    "collapsed": true
   },
   "outputs": [],
   "source": [
    "my_style = cy.style.create('MISHIMA Style')\n",
    "settings = {   # You can set default values as key-value pairs.\n",
    "    \n",
    "    'NODE_FILL_COLOR': '#D8D8D8',\n",
    "    'NODE_SIZE': 50,\n",
    "    'NODE_SHAPE': 'Ellipse',\n",
    "    'NODE_WHIDTH': 50,\n",
    "    'NODE_HIGHTS': 50,\n",
    "    'NODE_BORDER_WIDTH': 0,\n",
    "    'NODE_LABEL_COLOR': '#555555',\n",
    "    \n",
    "    #'EDGE_WIDTH': 2,\n",
    "    'EDGE_TRANSPARENCY': 100,\n",
    "    'EDGE_STROKE_UNSELECTED_PAINT': '#333333',\n",
    "    \n",
    "    'NETWORK_BACKGROUND_PAINT': '#FFFFEA'\n",
    "}\n",
    "my_style.update_defaults(settings)\n",
    "sim = test.get_edge_column('similarity')\n",
    "simdata = s_util.create_slope(min=10, max=200, values=(0,1))\n",
    "actdata = s_util.create_2_color_gradient(min=4,max=10, colors=('blue', 'red'))\n",
    "\n",
    "cy.layout.apply(name='yfiles.OrganicLayout', network=test)\n",
    "cy.layout.get_all()\n",
    "\n",
    "my_style.create_continuous_mapping(column='similarity',\n",
    "                                   vp='EDGE_WIDTH',\n",
    "                                   col_type='Double',\n",
    "                                   points=simdata)\n",
    "my_style.create_continuous_mapping(column='activities',\n",
    "                                   vp='NODE_FILL_COLOR',\n",
    "                                   col_type='Double',\n",
    "                                   points=actdata)\n",
    "\n",
    "cy.style.apply(my_style, network=test)\n",
    "\n"
   ]
  }
 ],
 "metadata": {
  "anaconda-cloud": {},
  "kernelspec": {
   "display_name": "Python [default]",
   "language": "python",
   "name": "python3"
  },
  "language_info": {
   "codemirror_mode": {
    "name": "ipython",
    "version": 3
   },
   "file_extension": ".py",
   "mimetype": "text/x-python",
   "name": "python",
   "nbconvert_exporter": "python",
   "pygments_lexer": "ipython3",
   "version": "3.5.4"
  }
 },
 "nbformat": 4,
 "nbformat_minor": 1
}
